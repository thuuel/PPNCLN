{
 "cells": [
  {
   "cell_type": "code",
   "execution_count": 1,
   "id": "01fc0050",
   "metadata": {
    "scrolled": true
   },
   "outputs": [],
   "source": [
    "import numpy as np\n",
    "import pandas as pd \n",
    "import warnings\n",
    "import matplotlib.pyplot as plt\n",
    "warnings.filterwarnings(\"ignore\")"
   ]
  },
  {
   "cell_type": "code",
   "execution_count": 2,
   "id": "4be9837c",
   "metadata": {},
   "outputs": [],
   "source": [
    "df=pd.read_csv(r\"C:\\Users\\admin\\OneDrive\\Documents\\weather_data.csv\")\n",
    "df.set_index('Date').sort_index()\n",
    "\n",
    "columns_of_interest = ['TempAvgF','DewPointAvgF', 'HumidityAvgPercent', 'SeaLevelPressureAvgInches', 'VisibilityAvgMiles', 'WindAvgMPH', 'PrecipitationSumInches']\n",
    "data = df[columns_of_interest]\n",
    "events = df[['Events']].replace(' ', 'None')"
   ]
  },
  {
   "cell_type": "markdown",
   "id": "c18208f2",
   "metadata": {},
   "source": [
    "Xem qua thành phần của bộ dữ liệu chúng ta sẽ dùng để phân tích"
   ]
  },
  {
   "cell_type": "code",
   "execution_count": 7,
   "id": "20b5e4aa",
   "metadata": {
    "scrolled": false
   },
   "outputs": [
    {
     "data": {
      "text/html": [
       "<div>\n",
       "<style scoped>\n",
       "    .dataframe tbody tr th:only-of-type {\n",
       "        vertical-align: middle;\n",
       "    }\n",
       "\n",
       "    .dataframe tbody tr th {\n",
       "        vertical-align: top;\n",
       "    }\n",
       "\n",
       "    .dataframe thead th {\n",
       "        text-align: right;\n",
       "    }\n",
       "</style>\n",
       "<table border=\"1\" class=\"dataframe\">\n",
       "  <thead>\n",
       "    <tr style=\"text-align: right;\">\n",
       "      <th></th>\n",
       "      <th>TempAvgF</th>\n",
       "      <th>DewPointAvgF</th>\n",
       "      <th>HumidityAvgPercent</th>\n",
       "      <th>SeaLevelPressureAvgInches</th>\n",
       "      <th>VisibilityAvgMiles</th>\n",
       "      <th>WindAvgMPH</th>\n",
       "      <th>PrecipitationSumInches</th>\n",
       "    </tr>\n",
       "  </thead>\n",
       "  <tbody>\n",
       "    <tr>\n",
       "      <th>0</th>\n",
       "      <td>60</td>\n",
       "      <td>49</td>\n",
       "      <td>75</td>\n",
       "      <td>29.68</td>\n",
       "      <td>7</td>\n",
       "      <td>4</td>\n",
       "      <td>0.46</td>\n",
       "    </tr>\n",
       "    <tr>\n",
       "      <th>1</th>\n",
       "      <td>48</td>\n",
       "      <td>36</td>\n",
       "      <td>68</td>\n",
       "      <td>30.13</td>\n",
       "      <td>10</td>\n",
       "      <td>6</td>\n",
       "      <td>0</td>\n",
       "    </tr>\n",
       "    <tr>\n",
       "      <th>2</th>\n",
       "      <td>45</td>\n",
       "      <td>27</td>\n",
       "      <td>52</td>\n",
       "      <td>30.49</td>\n",
       "      <td>10</td>\n",
       "      <td>3</td>\n",
       "      <td>0</td>\n",
       "    </tr>\n",
       "    <tr>\n",
       "      <th>3</th>\n",
       "      <td>46</td>\n",
       "      <td>28</td>\n",
       "      <td>56</td>\n",
       "      <td>30.45</td>\n",
       "      <td>10</td>\n",
       "      <td>4</td>\n",
       "      <td>0</td>\n",
       "    </tr>\n",
       "    <tr>\n",
       "      <th>4</th>\n",
       "      <td>50</td>\n",
       "      <td>40</td>\n",
       "      <td>71</td>\n",
       "      <td>30.33</td>\n",
       "      <td>10</td>\n",
       "      <td>2</td>\n",
       "      <td>T</td>\n",
       "    </tr>\n",
       "    <tr>\n",
       "      <th>...</th>\n",
       "      <td>...</td>\n",
       "      <td>...</td>\n",
       "      <td>...</td>\n",
       "      <td>...</td>\n",
       "      <td>...</td>\n",
       "      <td>...</td>\n",
       "      <td>...</td>\n",
       "    </tr>\n",
       "    <tr>\n",
       "      <th>1314</th>\n",
       "      <td>89</td>\n",
       "      <td>67</td>\n",
       "      <td>54</td>\n",
       "      <td>29.97</td>\n",
       "      <td>10</td>\n",
       "      <td>5</td>\n",
       "      <td>0</td>\n",
       "    </tr>\n",
       "    <tr>\n",
       "      <th>1315</th>\n",
       "      <td>91</td>\n",
       "      <td>64</td>\n",
       "      <td>54</td>\n",
       "      <td>29.9</td>\n",
       "      <td>10</td>\n",
       "      <td>5</td>\n",
       "      <td>0</td>\n",
       "    </tr>\n",
       "    <tr>\n",
       "      <th>1316</th>\n",
       "      <td>92</td>\n",
       "      <td>64</td>\n",
       "      <td>51</td>\n",
       "      <td>29.86</td>\n",
       "      <td>10</td>\n",
       "      <td>4</td>\n",
       "      <td>0</td>\n",
       "    </tr>\n",
       "    <tr>\n",
       "      <th>1317</th>\n",
       "      <td>93</td>\n",
       "      <td>68</td>\n",
       "      <td>48</td>\n",
       "      <td>29.91</td>\n",
       "      <td>10</td>\n",
       "      <td>4</td>\n",
       "      <td>0</td>\n",
       "    </tr>\n",
       "    <tr>\n",
       "      <th>1318</th>\n",
       "      <td>88</td>\n",
       "      <td>61</td>\n",
       "      <td>43</td>\n",
       "      <td>29.97</td>\n",
       "      <td>10</td>\n",
       "      <td>4</td>\n",
       "      <td>0</td>\n",
       "    </tr>\n",
       "  </tbody>\n",
       "</table>\n",
       "<p>1319 rows × 7 columns</p>\n",
       "</div>"
      ],
      "text/plain": [
       "      TempAvgF DewPointAvgF HumidityAvgPercent SeaLevelPressureAvgInches  \\\n",
       "0           60           49                 75                     29.68   \n",
       "1           48           36                 68                     30.13   \n",
       "2           45           27                 52                     30.49   \n",
       "3           46           28                 56                     30.45   \n",
       "4           50           40                 71                     30.33   \n",
       "...        ...          ...                ...                       ...   \n",
       "1314        89           67                 54                     29.97   \n",
       "1315        91           64                 54                      29.9   \n",
       "1316        92           64                 51                     29.86   \n",
       "1317        93           68                 48                     29.91   \n",
       "1318        88           61                 43                     29.97   \n",
       "\n",
       "     VisibilityAvgMiles WindAvgMPH PrecipitationSumInches  \n",
       "0                     7          4                   0.46  \n",
       "1                    10          6                      0  \n",
       "2                    10          3                      0  \n",
       "3                    10          4                      0  \n",
       "4                    10          2                      T  \n",
       "...                 ...        ...                    ...  \n",
       "1314                 10          5                      0  \n",
       "1315                 10          5                      0  \n",
       "1316                 10          4                      0  \n",
       "1317                 10          4                      0  \n",
       "1318                 10          4                      0  \n",
       "\n",
       "[1319 rows x 7 columns]"
      ]
     },
     "execution_count": 7,
     "metadata": {},
     "output_type": "execute_result"
    }
   ],
   "source": [
    "data"
   ]
  },
  {
   "cell_type": "markdown",
   "id": "d1299a50",
   "metadata": {},
   "source": [
    "Vẽ đồ thị thể hiện số lượng các sự kiện thời tiết đã xảy ra trong bộ dữ liệu"
   ]
  },
  {
   "cell_type": "code",
   "execution_count": 5,
   "id": "4541c803",
   "metadata": {},
   "outputs": [
    {
     "data": {
      "text/plain": [
       "<Axes: >"
      ]
     },
     "execution_count": 5,
     "metadata": {},
     "output_type": "execute_result"
    },
    {
     "data": {
      "image/png": "[encoded data removed]",
      "text/plain": [
       "<Figure size 1000x500 with 1 Axes>"
      ]
     },
     "metadata": {},
     "output_type": "display_data"
    }
   ],
   "source": [
    "events.Events.value_counts().plot(kind='bar', figsize=(10,5), color = plt.cm.Set2(range(len(events.Events.unique()))))"
   ]
  },
  {
   "cell_type": "markdown",
   "id": "95ffcd13",
   "metadata": {},
   "source": [
    "Lọc ra những sự kiện thời tiết đơn lẻ"
   ]
  },
  {
   "cell_type": "code",
   "execution_count": 8,
   "id": "4193f196",
   "metadata": {},
   "outputs": [
    {
     "data": {
      "text/plain": [
       "{'Fog', 'None', 'Rain', 'Snow', 'Thunderstorm'}"
      ]
     },
     "execution_count": 8,
     "metadata": {},
     "output_type": "execute_result"
    }
   ],
   "source": [
    "unique_events = set()\n",
    "for value in events.Events.value_counts().index:\n",
    "    splitted = [x.strip() for x in value.split(',')]\n",
    "    unique_events.update(splitted)\n",
    "unique_events"
   ]
  },
  {
   "cell_type": "markdown",
   "id": "2f6ae6f5",
   "metadata": {},
   "source": [
    "Gán giá trị True cho các sự kiện thời tiết xảy ra tương ứng với từng hàng, ngược lại thì False"
   ]
  },
  {
   "cell_type": "code",
   "execution_count": 9,
   "id": "1b3f792a",
   "metadata": {},
   "outputs": [
    {
     "data": {
      "text/html": [
       "<div>\n",
       "<style scoped>\n",
       "    .dataframe tbody tr th:only-of-type {\n",
       "        vertical-align: middle;\n",
       "    }\n",
       "\n",
       "    .dataframe tbody tr th {\n",
       "        vertical-align: top;\n",
       "    }\n",
       "\n",
       "    .dataframe thead th {\n",
       "        text-align: right;\n",
       "    }\n",
       "</style>\n",
       "<table border=\"1\" class=\"dataframe\">\n",
       "  <thead>\n",
       "    <tr style=\"text-align: right;\">\n",
       "      <th></th>\n",
       "      <th>Thunderstorm</th>\n",
       "      <th>Rain</th>\n",
       "      <th>Snow</th>\n",
       "      <th>Fog</th>\n",
       "      <th>None</th>\n",
       "    </tr>\n",
       "  </thead>\n",
       "  <tbody>\n",
       "    <tr>\n",
       "      <th>0</th>\n",
       "      <td>True</td>\n",
       "      <td>True</td>\n",
       "      <td>False</td>\n",
       "      <td>False</td>\n",
       "      <td>False</td>\n",
       "    </tr>\n",
       "    <tr>\n",
       "      <th>1</th>\n",
       "      <td>False</td>\n",
       "      <td>False</td>\n",
       "      <td>False</td>\n",
       "      <td>False</td>\n",
       "      <td>True</td>\n",
       "    </tr>\n",
       "    <tr>\n",
       "      <th>2</th>\n",
       "      <td>False</td>\n",
       "      <td>False</td>\n",
       "      <td>False</td>\n",
       "      <td>False</td>\n",
       "      <td>True</td>\n",
       "    </tr>\n",
       "    <tr>\n",
       "      <th>3</th>\n",
       "      <td>False</td>\n",
       "      <td>False</td>\n",
       "      <td>False</td>\n",
       "      <td>False</td>\n",
       "      <td>True</td>\n",
       "    </tr>\n",
       "    <tr>\n",
       "      <th>4</th>\n",
       "      <td>False</td>\n",
       "      <td>False</td>\n",
       "      <td>False</td>\n",
       "      <td>False</td>\n",
       "      <td>True</td>\n",
       "    </tr>\n",
       "    <tr>\n",
       "      <th>...</th>\n",
       "      <td>...</td>\n",
       "      <td>...</td>\n",
       "      <td>...</td>\n",
       "      <td>...</td>\n",
       "      <td>...</td>\n",
       "    </tr>\n",
       "    <tr>\n",
       "      <th>1314</th>\n",
       "      <td>False</td>\n",
       "      <td>False</td>\n",
       "      <td>False</td>\n",
       "      <td>False</td>\n",
       "      <td>True</td>\n",
       "    </tr>\n",
       "    <tr>\n",
       "      <th>1315</th>\n",
       "      <td>False</td>\n",
       "      <td>False</td>\n",
       "      <td>False</td>\n",
       "      <td>False</td>\n",
       "      <td>True</td>\n",
       "    </tr>\n",
       "    <tr>\n",
       "      <th>1316</th>\n",
       "      <td>False</td>\n",
       "      <td>False</td>\n",
       "      <td>False</td>\n",
       "      <td>False</td>\n",
       "      <td>True</td>\n",
       "    </tr>\n",
       "    <tr>\n",
       "      <th>1317</th>\n",
       "      <td>False</td>\n",
       "      <td>False</td>\n",
       "      <td>False</td>\n",
       "      <td>False</td>\n",
       "      <td>True</td>\n",
       "    </tr>\n",
       "    <tr>\n",
       "      <th>1318</th>\n",
       "      <td>False</td>\n",
       "      <td>False</td>\n",
       "      <td>False</td>\n",
       "      <td>False</td>\n",
       "      <td>True</td>\n",
       "    </tr>\n",
       "  </tbody>\n",
       "</table>\n",
       "<p>1319 rows × 5 columns</p>\n",
       "</div>"
      ],
      "text/plain": [
       "      Thunderstorm   Rain   Snow    Fog   None\n",
       "0             True   True  False  False  False\n",
       "1            False  False  False  False   True\n",
       "2            False  False  False  False   True\n",
       "3            False  False  False  False   True\n",
       "4            False  False  False  False   True\n",
       "...            ...    ...    ...    ...    ...\n",
       "1314         False  False  False  False   True\n",
       "1315         False  False  False  False   True\n",
       "1316         False  False  False  False   True\n",
       "1317         False  False  False  False   True\n",
       "1318         False  False  False  False   True\n",
       "\n",
       "[1319 rows x 5 columns]"
      ]
     },
     "execution_count": 9,
     "metadata": {},
     "output_type": "execute_result"
    }
   ],
   "source": [
    "single_events = pd.DataFrame()\n",
    "for event_type in unique_events:\n",
    "    event_occurred = events.Events.str.contains(event_type)\n",
    "    single_events = pd.concat([single_events, pd.DataFrame(data={event_type: event_occurred.values})], join='outer', axis=1)\n",
    "single_events"
   ]
  },
  {
   "cell_type": "markdown",
   "id": "fcf69dfa",
   "metadata": {},
   "source": [
    "Vẽ đồ thị thể hiện số lượng của từng sự kiện thời tiết riêng lẻ trong bộ dữ liệu"
   ]
  },
  {
   "cell_type": "code",
   "execution_count": 10,
   "id": "e1a5e89f",
   "metadata": {},
   "outputs": [
    {
     "data": {
      "image/png": "[encoded data removed]",
      "text/plain": [
       "<Figure size 800x500 with 1 Axes>"
      ]
     },
     "metadata": {},
     "output_type": "display_data"
    }
   ],
   "source": [
    "ax = single_events.sum().sort_values(ascending=False).plot.bar(figsize=(8,5), color = plt.cm.Set2(range(len(events.Events.unique()))))\n",
    "ax.set_title(\"Weather events in dataset\", fontsize=18)\n",
    "ax.set_ylabel(\"Number of occurrences\", fontsize=14)\n",
    "for i in ax.patches:\n",
    "    ax.text(i.get_x()+.18, i.get_height()+5, i.get_height(), fontsize=10)"
   ]
  },
  {
   "cell_type": "markdown",
   "id": "ea5ef5c4",
   "metadata": {},
   "source": [
    "Trong bộ dữ liệu đang sử dụng, có thể thấy ở cột PrecipitationSumInches có các giá trị T bên cạnh những số cụ thể.\n",
    "Điều này có thể hiểu là vào ngày hôm đó có mưa nhưng không biết cụ thể là bao nhiêu."
   ]
  },
  {
   "cell_type": "code",
   "execution_count": 12,
   "id": "4cfc7c93",
   "metadata": {},
   "outputs": [
    {
     "data": {
      "text/plain": [
       "T    124\n",
       "Name: PrecipitationSumInches, dtype: int64"
      ]
     },
     "execution_count": 12,
     "metadata": {},
     "output_type": "execute_result"
    }
   ],
   "source": [
    "precipitation = data[pd.to_numeric(data.PrecipitationSumInches, errors='coerce').isnull()].PrecipitationSumInches.value_counts()\n",
    "precipitation"
   ]
  },
  {
   "cell_type": "markdown",
   "id": "16e233b3",
   "metadata": {},
   "source": [
    "Kiểm tra xem bộ dữ liệu được sử dụng có bao nhiêu hàng không phải là số."
   ]
  },
  {
   "cell_type": "code",
   "execution_count": 13,
   "id": "3c76a3c0",
   "metadata": {},
   "outputs": [
    {
     "name": "stdout",
     "output_type": "stream",
     "text": [
      "Non numeric rows: 134\n"
     ]
    }
   ],
   "source": [
    "def isColumnNotNumeric(columns_of_interest, data):\n",
    "    result = np.zeros(data.shape[0], dtype=bool)\n",
    "    for column_name in columns_of_interest:\n",
    "        result = result | pd.to_numeric(data[column_name], errors='coerce').isnull()\n",
    "    return result\n",
    "\n",
    "def getDataFrameWithNonNumericRows(dataFrame):\n",
    "    return data[isColumnNotNumeric(columns_of_interest, data)]\n",
    "\n",
    "non_numeric_rows_count = getDataFrameWithNonNumericRows(data).shape[0]\n",
    "\n",
    "print(\"Non numeric rows: {0}\".format(non_numeric_rows_count))"
   ]
  },
  {
   "cell_type": "markdown",
   "id": "6b6c27af",
   "metadata": {},
   "source": [
    "Chuyển đổi các dòng có T trong cột PrecipitationSumInches thành số 0.\n",
    "Đồng thời, tạo một cột mới tên PrecipitationTrace để lưu trữ các giả trị T này (gán 1 cho những dòng có T, 0 cho những dòng còn lại)"
   ]
  },
  {
   "cell_type": "code",
   "execution_count": 14,
   "id": "5c157351",
   "metadata": {},
   "outputs": [
    {
     "data": {
      "text/html": [
       "<div>\n",
       "<style scoped>\n",
       "    .dataframe tbody tr th:only-of-type {\n",
       "        vertical-align: middle;\n",
       "    }\n",
       "\n",
       "    .dataframe tbody tr th {\n",
       "        vertical-align: top;\n",
       "    }\n",
       "\n",
       "    .dataframe thead th {\n",
       "        text-align: right;\n",
       "    }\n",
       "</style>\n",
       "<table border=\"1\" class=\"dataframe\">\n",
       "  <thead>\n",
       "    <tr style=\"text-align: right;\">\n",
       "      <th></th>\n",
       "      <th>TempAvgF</th>\n",
       "      <th>DewPointAvgF</th>\n",
       "      <th>HumidityAvgPercent</th>\n",
       "      <th>SeaLevelPressureAvgInches</th>\n",
       "      <th>VisibilityAvgMiles</th>\n",
       "      <th>WindAvgMPH</th>\n",
       "      <th>PrecipitationSumInches</th>\n",
       "      <th>PrecipitationTrace</th>\n",
       "    </tr>\n",
       "  </thead>\n",
       "  <tbody>\n",
       "    <tr>\n",
       "      <th>0</th>\n",
       "      <td>60</td>\n",
       "      <td>49</td>\n",
       "      <td>75</td>\n",
       "      <td>29.68</td>\n",
       "      <td>7</td>\n",
       "      <td>4</td>\n",
       "      <td>0.46</td>\n",
       "      <td>0</td>\n",
       "    </tr>\n",
       "    <tr>\n",
       "      <th>1</th>\n",
       "      <td>48</td>\n",
       "      <td>36</td>\n",
       "      <td>68</td>\n",
       "      <td>30.13</td>\n",
       "      <td>10</td>\n",
       "      <td>6</td>\n",
       "      <td>0.00</td>\n",
       "      <td>0</td>\n",
       "    </tr>\n",
       "    <tr>\n",
       "      <th>2</th>\n",
       "      <td>45</td>\n",
       "      <td>27</td>\n",
       "      <td>52</td>\n",
       "      <td>30.49</td>\n",
       "      <td>10</td>\n",
       "      <td>3</td>\n",
       "      <td>0.00</td>\n",
       "      <td>0</td>\n",
       "    </tr>\n",
       "    <tr>\n",
       "      <th>3</th>\n",
       "      <td>46</td>\n",
       "      <td>28</td>\n",
       "      <td>56</td>\n",
       "      <td>30.45</td>\n",
       "      <td>10</td>\n",
       "      <td>4</td>\n",
       "      <td>0.00</td>\n",
       "      <td>0</td>\n",
       "    </tr>\n",
       "    <tr>\n",
       "      <th>4</th>\n",
       "      <td>50</td>\n",
       "      <td>40</td>\n",
       "      <td>71</td>\n",
       "      <td>30.33</td>\n",
       "      <td>10</td>\n",
       "      <td>2</td>\n",
       "      <td>0.00</td>\n",
       "      <td>1</td>\n",
       "    </tr>\n",
       "    <tr>\n",
       "      <th>5</th>\n",
       "      <td>48</td>\n",
       "      <td>36</td>\n",
       "      <td>63</td>\n",
       "      <td>30.4</td>\n",
       "      <td>9</td>\n",
       "      <td>3</td>\n",
       "      <td>0.00</td>\n",
       "      <td>0</td>\n",
       "    </tr>\n",
       "    <tr>\n",
       "      <th>6</th>\n",
       "      <td>53</td>\n",
       "      <td>39</td>\n",
       "      <td>65</td>\n",
       "      <td>30.39</td>\n",
       "      <td>9</td>\n",
       "      <td>1</td>\n",
       "      <td>0.00</td>\n",
       "      <td>1</td>\n",
       "    </tr>\n",
       "    <tr>\n",
       "      <th>7</th>\n",
       "      <td>51</td>\n",
       "      <td>39</td>\n",
       "      <td>64</td>\n",
       "      <td>30.17</td>\n",
       "      <td>10</td>\n",
       "      <td>2</td>\n",
       "      <td>0.00</td>\n",
       "      <td>1</td>\n",
       "    </tr>\n",
       "    <tr>\n",
       "      <th>8</th>\n",
       "      <td>50</td>\n",
       "      <td>41</td>\n",
       "      <td>76</td>\n",
       "      <td>30.1</td>\n",
       "      <td>10</td>\n",
       "      <td>5</td>\n",
       "      <td>0.00</td>\n",
       "      <td>0</td>\n",
       "    </tr>\n",
       "    <tr>\n",
       "      <th>9</th>\n",
       "      <td>40</td>\n",
       "      <td>26</td>\n",
       "      <td>60</td>\n",
       "      <td>30.33</td>\n",
       "      <td>10</td>\n",
       "      <td>5</td>\n",
       "      <td>0.00</td>\n",
       "      <td>0</td>\n",
       "    </tr>\n",
       "  </tbody>\n",
       "</table>\n",
       "</div>"
      ],
      "text/plain": [
       "   TempAvgF DewPointAvgF HumidityAvgPercent SeaLevelPressureAvgInches  \\\n",
       "0        60           49                 75                     29.68   \n",
       "1        48           36                 68                     30.13   \n",
       "2        45           27                 52                     30.49   \n",
       "3        46           28                 56                     30.45   \n",
       "4        50           40                 71                     30.33   \n",
       "5        48           36                 63                      30.4   \n",
       "6        53           39                 65                     30.39   \n",
       "7        51           39                 64                     30.17   \n",
       "8        50           41                 76                      30.1   \n",
       "9        40           26                 60                     30.33   \n",
       "\n",
       "  VisibilityAvgMiles WindAvgMPH  PrecipitationSumInches  PrecipitationTrace  \n",
       "0                  7          4                    0.46                   0  \n",
       "1                 10          6                    0.00                   0  \n",
       "2                 10          3                    0.00                   0  \n",
       "3                 10          4                    0.00                   0  \n",
       "4                 10          2                    0.00                   1  \n",
       "5                  9          3                    0.00                   0  \n",
       "6                  9          1                    0.00                   1  \n",
       "7                 10          2                    0.00                   1  \n",
       "8                 10          5                    0.00                   0  \n",
       "9                 10          5                    0.00                   0  "
      ]
     },
     "execution_count": 14,
     "metadata": {},
     "output_type": "execute_result"
    }
   ],
   "source": [
    "def numberOrZero(value):\n",
    "    try:\n",
    "        parsed = float(value)\n",
    "        return parsed\n",
    "    except:\n",
    "        return 0\n",
    "\n",
    "#Find rows indices with \"T\" values\n",
    "has_precipitation_trace_series = isColumnNotNumeric(['PrecipitationSumInches'], data).astype(int)\n",
    "data = data.assign(PrecipitationTrace=has_precipitation_trace_series.values)\n",
    "data['PrecipitationSumInches'] = data['PrecipitationSumInches'].apply(numberOrZero)\n",
    "data.iloc[0:10,:]"
   ]
  },
  {
   "cell_type": "markdown",
   "id": "37f7ca45",
   "metadata": {},
   "source": [
    "Từ các output trên, có thể thấy, ngoài cột T thì có nhiều cột khác chứa giá trị không phải số và đã được chuyển thành null.\n",
    "Vì thế, phải cân nhắc xử lí để mô hình chạy hiệu quả."
   ]
  },
  {
   "cell_type": "code",
   "execution_count": 16,
   "id": "1aacf3ef",
   "metadata": {
    "scrolled": false
   },
   "outputs": [
    {
     "data": {
      "text/html": [
       "<div>\n",
       "<style scoped>\n",
       "    .dataframe tbody tr th:only-of-type {\n",
       "        vertical-align: middle;\n",
       "    }\n",
       "\n",
       "    .dataframe tbody tr th {\n",
       "        vertical-align: top;\n",
       "    }\n",
       "\n",
       "    .dataframe thead th {\n",
       "        text-align: right;\n",
       "    }\n",
       "</style>\n",
       "<table border=\"1\" class=\"dataframe\">\n",
       "  <thead>\n",
       "    <tr style=\"text-align: right;\">\n",
       "      <th></th>\n",
       "      <th>TempAvgF</th>\n",
       "      <th>DewPointAvgF</th>\n",
       "      <th>HumidityAvgPercent</th>\n",
       "      <th>SeaLevelPressureAvgInches</th>\n",
       "      <th>VisibilityAvgMiles</th>\n",
       "      <th>WindAvgMPH</th>\n",
       "      <th>PrecipitationSumInches</th>\n",
       "      <th>PrecipitationTrace</th>\n",
       "    </tr>\n",
       "  </thead>\n",
       "  <tbody>\n",
       "    <tr>\n",
       "      <th>174</th>\n",
       "      <td>79</td>\n",
       "      <td>-</td>\n",
       "      <td>75</td>\n",
       "      <td>29.95</td>\n",
       "      <td>-</td>\n",
       "      <td>4</td>\n",
       "      <td>0.0</td>\n",
       "      <td>0</td>\n",
       "    </tr>\n",
       "    <tr>\n",
       "      <th>175</th>\n",
       "      <td>92</td>\n",
       "      <td>-</td>\n",
       "      <td>77</td>\n",
       "      <td>29.93</td>\n",
       "      <td>-</td>\n",
       "      <td>6</td>\n",
       "      <td>0.0</td>\n",
       "      <td>0</td>\n",
       "    </tr>\n",
       "    <tr>\n",
       "      <th>176</th>\n",
       "      <td>83</td>\n",
       "      <td>-</td>\n",
       "      <td>-</td>\n",
       "      <td>29.9</td>\n",
       "      <td>-</td>\n",
       "      <td>9</td>\n",
       "      <td>0.0</td>\n",
       "      <td>0</td>\n",
       "    </tr>\n",
       "    <tr>\n",
       "      <th>177</th>\n",
       "      <td>84</td>\n",
       "      <td>-</td>\n",
       "      <td>72</td>\n",
       "      <td>29.99</td>\n",
       "      <td>-</td>\n",
       "      <td>8</td>\n",
       "      <td>0.0</td>\n",
       "      <td>1</td>\n",
       "    </tr>\n",
       "    <tr>\n",
       "      <th>596</th>\n",
       "      <td>89</td>\n",
       "      <td>-</td>\n",
       "      <td>65</td>\n",
       "      <td>-</td>\n",
       "      <td>-</td>\n",
       "      <td>-</td>\n",
       "      <td>0.0</td>\n",
       "      <td>0</td>\n",
       "    </tr>\n",
       "    <tr>\n",
       "      <th>597</th>\n",
       "      <td>90</td>\n",
       "      <td>-</td>\n",
       "      <td>62</td>\n",
       "      <td>-</td>\n",
       "      <td>-</td>\n",
       "      <td>6</td>\n",
       "      <td>0.0</td>\n",
       "      <td>0</td>\n",
       "    </tr>\n",
       "    <tr>\n",
       "      <th>598</th>\n",
       "      <td>90</td>\n",
       "      <td>-</td>\n",
       "      <td>-</td>\n",
       "      <td>-</td>\n",
       "      <td>-</td>\n",
       "      <td>-</td>\n",
       "      <td>0.0</td>\n",
       "      <td>0</td>\n",
       "    </tr>\n",
       "    <tr>\n",
       "      <th>638</th>\n",
       "      <td>82</td>\n",
       "      <td>63</td>\n",
       "      <td>60</td>\n",
       "      <td>29.96</td>\n",
       "      <td>-</td>\n",
       "      <td>3</td>\n",
       "      <td>0.0</td>\n",
       "      <td>0</td>\n",
       "    </tr>\n",
       "    <tr>\n",
       "      <th>639</th>\n",
       "      <td>84</td>\n",
       "      <td>64</td>\n",
       "      <td>57</td>\n",
       "      <td>29.95</td>\n",
       "      <td>-</td>\n",
       "      <td>4</td>\n",
       "      <td>0.0</td>\n",
       "      <td>0</td>\n",
       "    </tr>\n",
       "    <tr>\n",
       "      <th>741</th>\n",
       "      <td>46</td>\n",
       "      <td>33</td>\n",
       "      <td>60</td>\n",
       "      <td>30.48</td>\n",
       "      <td>-</td>\n",
       "      <td>8</td>\n",
       "      <td>0.0</td>\n",
       "      <td>1</td>\n",
       "    </tr>\n",
       "    <tr>\n",
       "      <th>742</th>\n",
       "      <td>45</td>\n",
       "      <td>34</td>\n",
       "      <td>77</td>\n",
       "      <td>30.42</td>\n",
       "      <td>-</td>\n",
       "      <td>2</td>\n",
       "      <td>0.2</td>\n",
       "      <td>0</td>\n",
       "    </tr>\n",
       "    <tr>\n",
       "      <th>953</th>\n",
       "      <td>88</td>\n",
       "      <td>73</td>\n",
       "      <td>66</td>\n",
       "      <td>29.97</td>\n",
       "      <td>-</td>\n",
       "      <td>6</td>\n",
       "      <td>0.0</td>\n",
       "      <td>0</td>\n",
       "    </tr>\n",
       "  </tbody>\n",
       "</table>\n",
       "</div>"
      ],
      "text/plain": [
       "     TempAvgF DewPointAvgF HumidityAvgPercent SeaLevelPressureAvgInches  \\\n",
       "174        79            -                 75                     29.95   \n",
       "175        92            -                 77                     29.93   \n",
       "176        83            -                  -                      29.9   \n",
       "177        84            -                 72                     29.99   \n",
       "596        89            -                 65                         -   \n",
       "597        90            -                 62                         -   \n",
       "598        90            -                  -                         -   \n",
       "638        82           63                 60                     29.96   \n",
       "639        84           64                 57                     29.95   \n",
       "741        46           33                 60                     30.48   \n",
       "742        45           34                 77                     30.42   \n",
       "953        88           73                 66                     29.97   \n",
       "\n",
       "    VisibilityAvgMiles WindAvgMPH  PrecipitationSumInches  PrecipitationTrace  \n",
       "174                  -          4                     0.0                   0  \n",
       "175                  -          6                     0.0                   0  \n",
       "176                  -          9                     0.0                   0  \n",
       "177                  -          8                     0.0                   1  \n",
       "596                  -          -                     0.0                   0  \n",
       "597                  -          6                     0.0                   0  \n",
       "598                  -          -                     0.0                   0  \n",
       "638                  -          3                     0.0                   0  \n",
       "639                  -          4                     0.0                   0  \n",
       "741                  -          8                     0.0                   1  \n",
       "742                  -          2                     0.2                   0  \n",
       "953                  -          6                     0.0                   0  "
      ]
     },
     "execution_count": 16,
     "metadata": {},
     "output_type": "execute_result"
    }
   ],
   "source": [
    "getDataFrameWithNonNumericRows(data)"
   ]
  },
  {
   "cell_type": "code",
   "execution_count": 17,
   "id": "c088e1d3",
   "metadata": {},
   "outputs": [
    {
     "name": "stdout",
     "output_type": "stream",
     "text": [
      "Data rows: 1307, Events rows: 1307\n"
     ]
    }
   ],
   "source": [
    "row_indices_for_missing_values = getDataFrameWithNonNumericRows(data).index.values\n",
    "data_prepared = data.drop(row_indices_for_missing_values)\n",
    "events_prepared = single_events.drop(row_indices_for_missing_values)\n",
    "print(\"Data rows: {0}, Events rows: {1}\".format(data_prepared.shape[0], events_prepared.shape[0]))"
   ]
  },
  {
   "cell_type": "markdown",
   "id": "c4dafc32",
   "metadata": {},
   "source": [
    "Vì mô hình của học máy không giám sát nhóm sử dụng được chạy trên các dữ liệu dạng số.\n",
    "Vì thế, phải kiểm tra xem loại dữ liệu của các cột và ép kiểu nếu cần."
   ]
  },
  {
   "cell_type": "code",
   "execution_count": 18,
   "id": "98778761",
   "metadata": {},
   "outputs": [
    {
     "data": {
      "text/plain": [
       "TempAvgF                       int64\n",
       "DewPointAvgF                  object\n",
       "HumidityAvgPercent            object\n",
       "SeaLevelPressureAvgInches     object\n",
       "VisibilityAvgMiles            object\n",
       "WindAvgMPH                    object\n",
       "PrecipitationSumInches       float64\n",
       "PrecipitationTrace             int32\n",
       "dtype: object"
      ]
     },
     "execution_count": 18,
     "metadata": {},
     "output_type": "execute_result"
    }
   ],
   "source": [
    "data_prepared.dtypes"
   ]
  },
  {
   "cell_type": "code",
   "execution_count": 19,
   "id": "6e56e114",
   "metadata": {},
   "outputs": [
    {
     "data": {
      "text/plain": [
       "TempAvgF                       int64\n",
       "DewPointAvgF                   int64\n",
       "HumidityAvgPercent             int64\n",
       "SeaLevelPressureAvgInches    float64\n",
       "VisibilityAvgMiles             int64\n",
       "WindAvgMPH                     int64\n",
       "PrecipitationSumInches       float64\n",
       "PrecipitationTrace             int32\n",
       "dtype: object"
      ]
     },
     "execution_count": 19,
     "metadata": {},
     "output_type": "execute_result"
    }
   ],
   "source": [
    "data_prepared = data_prepared.apply(pd.to_numeric)\n",
    "data_prepared.dtypes"
   ]
  },
  {
   "cell_type": "markdown",
   "id": "e749bd80",
   "metadata": {},
   "source": [
    "Bắt đầu chuẩn hóa dữ liệu để huấn luyện mô hình"
   ]
  },
  {
   "cell_type": "code",
   "execution_count": 20,
   "id": "de009778",
   "metadata": {},
   "outputs": [],
   "source": [
    "from sklearn import preprocessing\n",
    "data_values = data_prepared.values #returns a numpy array\n",
    "min_max_scaler = preprocessing.MinMaxScaler()\n",
    "\n",
    "data_prepared = pd.DataFrame(min_max_scaler.fit_transform(data_prepared), columns=data_prepared.columns, index=data_prepared.index)"
   ]
  },
  {
   "cell_type": "code",
   "execution_count": 21,
   "id": "fcb22be8",
   "metadata": {
    "scrolled": true
   },
   "outputs": [
    {
     "data": {
      "text/html": [
       "<div>\n",
       "<style scoped>\n",
       "    .dataframe tbody tr th:only-of-type {\n",
       "        vertical-align: middle;\n",
       "    }\n",
       "\n",
       "    .dataframe tbody tr th {\n",
       "        vertical-align: top;\n",
       "    }\n",
       "\n",
       "    .dataframe thead th {\n",
       "        text-align: right;\n",
       "    }\n",
       "</style>\n",
       "<table border=\"1\" class=\"dataframe\">\n",
       "  <thead>\n",
       "    <tr style=\"text-align: right;\">\n",
       "      <th></th>\n",
       "      <th>TempAvgF</th>\n",
       "      <th>DewPointAvgF</th>\n",
       "      <th>HumidityAvgPercent</th>\n",
       "      <th>SeaLevelPressureAvgInches</th>\n",
       "      <th>VisibilityAvgMiles</th>\n",
       "      <th>WindAvgMPH</th>\n",
       "      <th>PrecipitationSumInches</th>\n",
       "      <th>PrecipitationTrace</th>\n",
       "    </tr>\n",
       "  </thead>\n",
       "  <tbody>\n",
       "    <tr>\n",
       "      <th>0</th>\n",
       "      <td>0.484375</td>\n",
       "      <td>0.602941</td>\n",
       "      <td>0.685714</td>\n",
       "      <td>0.109244</td>\n",
       "      <td>0.625</td>\n",
       "      <td>0.272727</td>\n",
       "      <td>0.088462</td>\n",
       "      <td>0.0</td>\n",
       "    </tr>\n",
       "    <tr>\n",
       "      <th>1</th>\n",
       "      <td>0.296875</td>\n",
       "      <td>0.411765</td>\n",
       "      <td>0.585714</td>\n",
       "      <td>0.487395</td>\n",
       "      <td>1.000</td>\n",
       "      <td>0.454545</td>\n",
       "      <td>0.000000</td>\n",
       "      <td>0.0</td>\n",
       "    </tr>\n",
       "    <tr>\n",
       "      <th>2</th>\n",
       "      <td>0.250000</td>\n",
       "      <td>0.279412</td>\n",
       "      <td>0.357143</td>\n",
       "      <td>0.789916</td>\n",
       "      <td>1.000</td>\n",
       "      <td>0.181818</td>\n",
       "      <td>0.000000</td>\n",
       "      <td>0.0</td>\n",
       "    </tr>\n",
       "    <tr>\n",
       "      <th>3</th>\n",
       "      <td>0.265625</td>\n",
       "      <td>0.294118</td>\n",
       "      <td>0.414286</td>\n",
       "      <td>0.756303</td>\n",
       "      <td>1.000</td>\n",
       "      <td>0.272727</td>\n",
       "      <td>0.000000</td>\n",
       "      <td>0.0</td>\n",
       "    </tr>\n",
       "    <tr>\n",
       "      <th>4</th>\n",
       "      <td>0.328125</td>\n",
       "      <td>0.470588</td>\n",
       "      <td>0.628571</td>\n",
       "      <td>0.655462</td>\n",
       "      <td>1.000</td>\n",
       "      <td>0.090909</td>\n",
       "      <td>0.000000</td>\n",
       "      <td>1.0</td>\n",
       "    </tr>\n",
       "  </tbody>\n",
       "</table>\n",
       "</div>"
      ],
      "text/plain": [
       "   TempAvgF  DewPointAvgF  HumidityAvgPercent  SeaLevelPressureAvgInches  \\\n",
       "0  0.484375      0.602941            0.685714                   0.109244   \n",
       "1  0.296875      0.411765            0.585714                   0.487395   \n",
       "2  0.250000      0.279412            0.357143                   0.789916   \n",
       "3  0.265625      0.294118            0.414286                   0.756303   \n",
       "4  0.328125      0.470588            0.628571                   0.655462   \n",
       "\n",
       "   VisibilityAvgMiles  WindAvgMPH  PrecipitationSumInches  PrecipitationTrace  \n",
       "0               0.625    0.272727                0.088462                 0.0  \n",
       "1               1.000    0.454545                0.000000                 0.0  \n",
       "2               1.000    0.181818                0.000000                 0.0  \n",
       "3               1.000    0.272727                0.000000                 0.0  \n",
       "4               1.000    0.090909                0.000000                 1.0  "
      ]
     },
     "execution_count": 21,
     "metadata": {},
     "output_type": "execute_result"
    }
   ],
   "source": [
    "data_prepared.head()"
   ]
  },
  {
   "cell_type": "code",
   "execution_count": 22,
   "id": "7fdbcf68",
   "metadata": {},
   "outputs": [
    {
     "data": {
      "text/html": [
       "<div>\n",
       "<style scoped>\n",
       "    .dataframe tbody tr th:only-of-type {\n",
       "        vertical-align: middle;\n",
       "    }\n",
       "\n",
       "    .dataframe tbody tr th {\n",
       "        vertical-align: top;\n",
       "    }\n",
       "\n",
       "    .dataframe thead th {\n",
       "        text-align: right;\n",
       "    }\n",
       "</style>\n",
       "<table border=\"1\" class=\"dataframe\">\n",
       "  <thead>\n",
       "    <tr style=\"text-align: right;\">\n",
       "      <th></th>\n",
       "      <th>Thunderstorm</th>\n",
       "      <th>Rain</th>\n",
       "      <th>Snow</th>\n",
       "      <th>Fog</th>\n",
       "      <th>None</th>\n",
       "    </tr>\n",
       "  </thead>\n",
       "  <tbody>\n",
       "    <tr>\n",
       "      <th>0</th>\n",
       "      <td>True</td>\n",
       "      <td>True</td>\n",
       "      <td>False</td>\n",
       "      <td>False</td>\n",
       "      <td>False</td>\n",
       "    </tr>\n",
       "    <tr>\n",
       "      <th>1</th>\n",
       "      <td>False</td>\n",
       "      <td>False</td>\n",
       "      <td>False</td>\n",
       "      <td>False</td>\n",
       "      <td>True</td>\n",
       "    </tr>\n",
       "    <tr>\n",
       "      <th>2</th>\n",
       "      <td>False</td>\n",
       "      <td>False</td>\n",
       "      <td>False</td>\n",
       "      <td>False</td>\n",
       "      <td>True</td>\n",
       "    </tr>\n",
       "    <tr>\n",
       "      <th>3</th>\n",
       "      <td>False</td>\n",
       "      <td>False</td>\n",
       "      <td>False</td>\n",
       "      <td>False</td>\n",
       "      <td>True</td>\n",
       "    </tr>\n",
       "    <tr>\n",
       "      <th>4</th>\n",
       "      <td>False</td>\n",
       "      <td>False</td>\n",
       "      <td>False</td>\n",
       "      <td>False</td>\n",
       "      <td>True</td>\n",
       "    </tr>\n",
       "  </tbody>\n",
       "</table>\n",
       "</div>"
      ],
      "text/plain": [
       "   Thunderstorm   Rain   Snow    Fog   None\n",
       "0          True   True  False  False  False\n",
       "1         False  False  False  False   True\n",
       "2         False  False  False  False   True\n",
       "3         False  False  False  False   True\n",
       "4         False  False  False  False   True"
      ]
     },
     "execution_count": 22,
     "metadata": {},
     "output_type": "execute_result"
    }
   ],
   "source": [
    "events_prepared.head()"
   ]
  },
  {
   "cell_type": "markdown",
   "id": "779cb8be",
   "metadata": {},
   "source": [
    "Chia dữ liệu thành 2 tập riêng biệt để huấn luyện và kiểm thử"
   ]
  },
  {
   "cell_type": "code",
   "execution_count": 24,
   "id": "b1df47af",
   "metadata": {},
   "outputs": [
    {
     "data": {
      "text/html": [
       "<div>\n",
       "<style scoped>\n",
       "    .dataframe tbody tr th:only-of-type {\n",
       "        vertical-align: middle;\n",
       "    }\n",
       "\n",
       "    .dataframe tbody tr th {\n",
       "        vertical-align: top;\n",
       "    }\n",
       "\n",
       "    .dataframe thead th {\n",
       "        text-align: right;\n",
       "    }\n",
       "</style>\n",
       "<table border=\"1\" class=\"dataframe\">\n",
       "  <thead>\n",
       "    <tr style=\"text-align: right;\">\n",
       "      <th></th>\n",
       "      <th>TempAvgF</th>\n",
       "      <th>DewPointAvgF</th>\n",
       "      <th>HumidityAvgPercent</th>\n",
       "      <th>SeaLevelPressureAvgInches</th>\n",
       "      <th>VisibilityAvgMiles</th>\n",
       "      <th>WindAvgMPH</th>\n",
       "      <th>PrecipitationSumInches</th>\n",
       "      <th>PrecipitationTrace</th>\n",
       "    </tr>\n",
       "  </thead>\n",
       "  <tbody>\n",
       "    <tr>\n",
       "      <th>1304</th>\n",
       "      <td>0.921875</td>\n",
       "      <td>0.926471</td>\n",
       "      <td>0.514286</td>\n",
       "      <td>0.294118</td>\n",
       "      <td>1.000</td>\n",
       "      <td>0.181818</td>\n",
       "      <td>0.000000</td>\n",
       "      <td>1.0</td>\n",
       "    </tr>\n",
       "    <tr>\n",
       "      <th>547</th>\n",
       "      <td>0.781250</td>\n",
       "      <td>0.985294</td>\n",
       "      <td>0.828571</td>\n",
       "      <td>0.403361</td>\n",
       "      <td>0.625</td>\n",
       "      <td>0.272727</td>\n",
       "      <td>0.178846</td>\n",
       "      <td>0.0</td>\n",
       "    </tr>\n",
       "    <tr>\n",
       "      <th>293</th>\n",
       "      <td>0.859375</td>\n",
       "      <td>0.911765</td>\n",
       "      <td>0.557143</td>\n",
       "      <td>0.285714</td>\n",
       "      <td>1.000</td>\n",
       "      <td>0.545455</td>\n",
       "      <td>0.000000</td>\n",
       "      <td>0.0</td>\n",
       "    </tr>\n",
       "    <tr>\n",
       "      <th>10</th>\n",
       "      <td>0.265625</td>\n",
       "      <td>0.294118</td>\n",
       "      <td>0.385714</td>\n",
       "      <td>0.705882</td>\n",
       "      <td>1.000</td>\n",
       "      <td>0.000000</td>\n",
       "      <td>0.000000</td>\n",
       "      <td>0.0</td>\n",
       "    </tr>\n",
       "    <tr>\n",
       "      <th>147</th>\n",
       "      <td>0.687500</td>\n",
       "      <td>0.691176</td>\n",
       "      <td>0.442857</td>\n",
       "      <td>0.352941</td>\n",
       "      <td>1.000</td>\n",
       "      <td>0.727273</td>\n",
       "      <td>0.000000</td>\n",
       "      <td>0.0</td>\n",
       "    </tr>\n",
       "    <tr>\n",
       "      <th>...</th>\n",
       "      <td>...</td>\n",
       "      <td>...</td>\n",
       "      <td>...</td>\n",
       "      <td>...</td>\n",
       "      <td>...</td>\n",
       "      <td>...</td>\n",
       "      <td>...</td>\n",
       "      <td>...</td>\n",
       "    </tr>\n",
       "    <tr>\n",
       "      <th>1107</th>\n",
       "      <td>0.531250</td>\n",
       "      <td>0.647059</td>\n",
       "      <td>0.671429</td>\n",
       "      <td>0.252101</td>\n",
       "      <td>0.750</td>\n",
       "      <td>0.090909</td>\n",
       "      <td>0.000000</td>\n",
       "      <td>0.0</td>\n",
       "    </tr>\n",
       "    <tr>\n",
       "      <th>1142</th>\n",
       "      <td>0.515625</td>\n",
       "      <td>0.750000</td>\n",
       "      <td>0.885714</td>\n",
       "      <td>0.428571</td>\n",
       "      <td>0.500</td>\n",
       "      <td>0.181818</td>\n",
       "      <td>0.000000</td>\n",
       "      <td>1.0</td>\n",
       "    </tr>\n",
       "    <tr>\n",
       "      <th>1306</th>\n",
       "      <td>0.937500</td>\n",
       "      <td>0.911765</td>\n",
       "      <td>0.471429</td>\n",
       "      <td>0.436975</td>\n",
       "      <td>1.000</td>\n",
       "      <td>0.363636</td>\n",
       "      <td>0.000000</td>\n",
       "      <td>0.0</td>\n",
       "    </tr>\n",
       "    <tr>\n",
       "      <th>871</th>\n",
       "      <td>0.781250</td>\n",
       "      <td>0.911765</td>\n",
       "      <td>0.685714</td>\n",
       "      <td>0.268908</td>\n",
       "      <td>0.500</td>\n",
       "      <td>0.636364</td>\n",
       "      <td>0.051923</td>\n",
       "      <td>0.0</td>\n",
       "    </tr>\n",
       "    <tr>\n",
       "      <th>1138</th>\n",
       "      <td>0.593750</td>\n",
       "      <td>0.647059</td>\n",
       "      <td>0.585714</td>\n",
       "      <td>0.361345</td>\n",
       "      <td>0.750</td>\n",
       "      <td>0.272727</td>\n",
       "      <td>0.000000</td>\n",
       "      <td>0.0</td>\n",
       "    </tr>\n",
       "  </tbody>\n",
       "</table>\n",
       "<p>1045 rows × 8 columns</p>\n",
       "</div>"
      ],
      "text/plain": [
       "      TempAvgF  DewPointAvgF  HumidityAvgPercent  SeaLevelPressureAvgInches  \\\n",
       "1304  0.921875      0.926471            0.514286                   0.294118   \n",
       "547   0.781250      0.985294            0.828571                   0.403361   \n",
       "293   0.859375      0.911765            0.557143                   0.285714   \n",
       "10    0.265625      0.294118            0.385714                   0.705882   \n",
       "147   0.687500      0.691176            0.442857                   0.352941   \n",
       "...        ...           ...                 ...                        ...   \n",
       "1107  0.531250      0.647059            0.671429                   0.252101   \n",
       "1142  0.515625      0.750000            0.885714                   0.428571   \n",
       "1306  0.937500      0.911765            0.471429                   0.436975   \n",
       "871   0.781250      0.911765            0.685714                   0.268908   \n",
       "1138  0.593750      0.647059            0.585714                   0.361345   \n",
       "\n",
       "      VisibilityAvgMiles  WindAvgMPH  PrecipitationSumInches  \\\n",
       "1304               1.000    0.181818                0.000000   \n",
       "547                0.625    0.272727                0.178846   \n",
       "293                1.000    0.545455                0.000000   \n",
       "10                 1.000    0.000000                0.000000   \n",
       "147                1.000    0.727273                0.000000   \n",
       "...                  ...         ...                     ...   \n",
       "1107               0.750    0.090909                0.000000   \n",
       "1142               0.500    0.181818                0.000000   \n",
       "1306               1.000    0.363636                0.000000   \n",
       "871                0.500    0.636364                0.051923   \n",
       "1138               0.750    0.272727                0.000000   \n",
       "\n",
       "      PrecipitationTrace  \n",
       "1304                 1.0  \n",
       "547                  0.0  \n",
       "293                  0.0  \n",
       "10                   0.0  \n",
       "147                  0.0  \n",
       "...                  ...  \n",
       "1107                 0.0  \n",
       "1142                 1.0  \n",
       "1306                 0.0  \n",
       "871                  0.0  \n",
       "1138                 0.0  \n",
       "\n",
       "[1045 rows x 8 columns]"
      ]
     },
     "execution_count": 24,
     "metadata": {},
     "output_type": "execute_result"
    }
   ],
   "source": [
    "from sklearn.model_selection import train_test_split\n",
    "\n",
    "random_state = 42\n",
    "X_train, X_test = train_test_split(data_prepared, test_size=0.2, random_state=random_state)\n",
    "y_train, y_test = train_test_split(events_prepared, test_size=0.2, random_state=random_state)\n",
    "\n",
    "clusters_count = len(unique_events)\n",
    "X_train"
   ]
  },
  {
   "cell_type": "markdown",
   "id": "65cd8115",
   "metadata": {},
   "source": [
    "Sử dụng những thuật toán phân cụm và so sánh với kết quả thực tế. Từ đó, đưa ra thuật toán cho kết quả gần với thực tế nhất."
   ]
  },
  {
   "cell_type": "code",
   "execution_count": 25,
   "id": "b0d411b6",
   "metadata": {},
   "outputs": [
    {
     "data": {
      "text/plain": [
       "<Axes: >"
      ]
     },
     "execution_count": 25,
     "metadata": {},
     "output_type": "execute_result"
    },
    {
     "data": {
      "image/png": "[encoded data removed]",
      "text/plain": [
       "<Figure size 640x480 with 1 Axes>"
      ]
     },
     "metadata": {},
     "output_type": "display_data"
    }
   ],
   "source": [
    "from sklearn.cluster import KMeans\n",
    "warnings.filterwarnings(\"ignore\")\n",
    "kmeans = KMeans(n_clusters=clusters_count).fit(X_train)\n",
    "\n",
    "resultDf = pd.DataFrame(kmeans.labels_)\n",
    "resultDf.iloc[:,0].value_counts().plot.bar(color = plt.cm.Set2(range(len(events.Events.unique()))))\n",
    "#plt.hist(kmeans.labels_)"
   ]
  },
  {
   "cell_type": "code",
   "execution_count": 26,
   "id": "900ce62a",
   "metadata": {},
   "outputs": [
    {
     "data": {
      "text/plain": [
       "<Axes: >"
      ]
     },
     "execution_count": 26,
     "metadata": {},
     "output_type": "execute_result"
    },
    {
     "data": {
      "image/png": "[encoded data removed]",
      "text/plain": [
       "<Figure size 640x480 with 1 Axes>"
      ]
     },
     "metadata": {},
     "output_type": "display_data"
    }
   ],
   "source": [
    "from sklearn.cluster import SpectralClustering\n",
    "warnings.filterwarnings(\"ignore\")\n",
    "sc = SpectralClustering(n_clusters=clusters_count).fit(X_train)\n",
    "resultDf2 = pd.DataFrame(sc.labels_)\n",
    "resultDf2.iloc[:,0].value_counts().plot.bar(color = plt.cm.Set2(range(len(events.Events.unique()))))"
   ]
  },
  {
   "cell_type": "code",
   "execution_count": 27,
   "id": "babc2058",
   "metadata": {},
   "outputs": [
    {
     "data": {
      "text/plain": [
       "<Axes: >"
      ]
     },
     "execution_count": 27,
     "metadata": {},
     "output_type": "execute_result"
    },
    {
     "data": {
      "image/png": "[encoded data removed]",
      "text/plain": [
       "<Figure size 640x480 with 1 Axes>"
      ]
     },
     "metadata": {},
     "output_type": "display_data"
    }
   ],
   "source": [
    "from sklearn.cluster import DBSCAN\n",
    "dbscan = DBSCAN(eps=0.25, min_samples=4).fit(X_train)\n",
    "resultDf = pd.DataFrame(dbscan.labels_)\n",
    "resultDf.iloc[:,0].value_counts().plot.bar(color = plt.cm.Set2(range(len(events.Events.unique()))))"
   ]
  },
  {
   "cell_type": "code",
   "execution_count": 28,
   "id": "b44dd829",
   "metadata": {
    "scrolled": false
   },
   "outputs": [
    {
     "data": {
      "text/plain": [
       "<Axes: >"
      ]
     },
     "execution_count": 28,
     "metadata": {},
     "output_type": "execute_result"
    },
    {
     "data": {
      "image/png": "[encoded data removed]",
      "text/plain": [
       "<Figure size 640x480 with 1 Axes>"
      ]
     },
     "metadata": {},
     "output_type": "display_data"
    }
   ],
   "source": [
    "from sklearn.cluster import AgglomerativeClustering\n",
    "\n",
    "ac = AgglomerativeClustering(n_clusters=clusters_count, linkage=\"average\").fit(X_train)\n",
    "resultDf = pd.DataFrame(ac.labels_)\n",
    "resultDf.iloc[:,0].value_counts().plot.bar(color = plt.cm.Set2(range(len(events.Events.unique()))))"
   ]
  },
  {
   "cell_type": "code",
   "execution_count": 29,
   "id": "394d84a1",
   "metadata": {},
   "outputs": [
    {
     "data": {
      "text/plain": [
       "<Axes: >"
      ]
     },
     "execution_count": 29,
     "metadata": {},
     "output_type": "execute_result"
    },
    {
     "data": {
      "image/png": "[encoded data removed]",
      "text/plain": [
       "<Figure size 640x480 with 1 Axes>"
      ]
     },
     "metadata": {},
     "output_type": "display_data"
    }
   ],
   "source": [
    "events_prepared.sum().sort_values(ascending=False).plot.bar(color = plt.cm.Set2(range(len(events.Events.unique()))))"
   ]
  },
  {
   "cell_type": "markdown",
   "id": "da554d44",
   "metadata": {},
   "source": [
    "Có thể thấy, thuật toán phân cụm Agglomerative đem lại kết quả phân cụm gần với thực tế nhất."
   ]
  },
  {
   "cell_type": "code",
   "execution_count": 30,
   "id": "c10936a1",
   "metadata": {},
   "outputs": [
    {
     "data": {
      "text/plain": [
       "<Axes: title={'center': 'Bar obtained from agglomerative clustering'}>"
      ]
     },
     "execution_count": 30,
     "metadata": {},
     "output_type": "execute_result"
    },
    {
     "data": {
      "image/png": "[encoded data removed]",
      "text/plain": [
       "<Figure size 1500x500 with 2 Axes>"
      ]
     },
     "metadata": {},
     "output_type": "display_data"
    }
   ],
   "source": [
    "fig, ax = plt.subplots(1, 2, figsize=(15, 5))\n",
    "events_prepared.sum().sort_values(ascending=False).plot.bar(ax=ax[0], title=\"Real events that happened\", color = plt.cm.Set2(range(len(events.Events.unique()))))\n",
    "resultDf.iloc[:,0].value_counts().plot.bar(ax=ax[1], title=\"Bar obtained from agglomerative clustering\", color = plt.cm.Set2(range(len(events.Events.unique()))))"
   ]
  },
  {
   "cell_type": "markdown",
   "id": "d45113ea",
   "metadata": {},
   "source": [
    "Thực hiện gán tên cụm vào tên sự kiện thời tiết tương ứng. \n",
    "Sau đó, sử dụng lý thuyết phân cụm của thuật toán Agglomerative để xem rằng liệu 1 ngày có thể có 2 sự kiện thời tiết hay không."
   ]
  },
  {
   "cell_type": "code",
   "execution_count": 32,
   "id": "a9d54071",
   "metadata": {},
   "outputs": [
    {
     "data": {
      "text/plain": [
       "{0: 'None', 4: 'Rain', 1: 'Thunderstorm', 3: 'Fog', 2: 'Snow'}"
      ]
     },
     "execution_count": 32,
     "metadata": {},
     "output_type": "execute_result"
    }
   ],
   "source": [
    "event_names_ordered = events_prepared.sum().sort_values(ascending=False).index\n",
    "clusters_ordered = resultDf.iloc[:,0].value_counts().index\n",
    "cluster_category_mapping = {}\n",
    "for i in range(clusters_count):\n",
    "    cluster_category_mapping.update({clusters_ordered[i]:event_names_ordered[i]})\n",
    "cluster_category_mapping\n"
   ]
  },
  {
   "cell_type": "code",
   "execution_count": 34,
   "id": "95759b5c",
   "metadata": {},
   "outputs": [
    {
     "data": {
      "text/html": [
       "<div>\n",
       "<style scoped>\n",
       "    .dataframe tbody tr th:only-of-type {\n",
       "        vertical-align: middle;\n",
       "    }\n",
       "\n",
       "    .dataframe tbody tr th {\n",
       "        vertical-align: top;\n",
       "    }\n",
       "\n",
       "    .dataframe thead th {\n",
       "        text-align: right;\n",
       "    }\n",
       "</style>\n",
       "<table border=\"1\" class=\"dataframe\">\n",
       "  <thead>\n",
       "    <tr style=\"text-align: right;\">\n",
       "      <th></th>\n",
       "      <th>TempAvgF</th>\n",
       "      <th>DewPointAvgF</th>\n",
       "      <th>HumidityAvgPercent</th>\n",
       "      <th>SeaLevelPressureAvgInches</th>\n",
       "      <th>VisibilityAvgMiles</th>\n",
       "      <th>WindAvgMPH</th>\n",
       "      <th>PrecipitationSumInches</th>\n",
       "      <th>PrecipitationTrace</th>\n",
       "    </tr>\n",
       "  </thead>\n",
       "  <tbody>\n",
       "    <tr>\n",
       "      <th>0</th>\n",
       "      <td>60</td>\n",
       "      <td>49</td>\n",
       "      <td>75</td>\n",
       "      <td>29.68</td>\n",
       "      <td>7</td>\n",
       "      <td>4</td>\n",
       "      <td>0.46</td>\n",
       "      <td>0</td>\n",
       "    </tr>\n",
       "    <tr>\n",
       "      <th>1</th>\n",
       "      <td>48</td>\n",
       "      <td>36</td>\n",
       "      <td>68</td>\n",
       "      <td>30.13</td>\n",
       "      <td>10</td>\n",
       "      <td>6</td>\n",
       "      <td>0.00</td>\n",
       "      <td>0</td>\n",
       "    </tr>\n",
       "    <tr>\n",
       "      <th>2</th>\n",
       "      <td>45</td>\n",
       "      <td>27</td>\n",
       "      <td>52</td>\n",
       "      <td>30.49</td>\n",
       "      <td>10</td>\n",
       "      <td>3</td>\n",
       "      <td>0.00</td>\n",
       "      <td>0</td>\n",
       "    </tr>\n",
       "    <tr>\n",
       "      <th>3</th>\n",
       "      <td>46</td>\n",
       "      <td>28</td>\n",
       "      <td>56</td>\n",
       "      <td>30.45</td>\n",
       "      <td>10</td>\n",
       "      <td>4</td>\n",
       "      <td>0.00</td>\n",
       "      <td>0</td>\n",
       "    </tr>\n",
       "    <tr>\n",
       "      <th>4</th>\n",
       "      <td>50</td>\n",
       "      <td>40</td>\n",
       "      <td>71</td>\n",
       "      <td>30.33</td>\n",
       "      <td>10</td>\n",
       "      <td>2</td>\n",
       "      <td>0.00</td>\n",
       "      <td>1</td>\n",
       "    </tr>\n",
       "    <tr>\n",
       "      <th>...</th>\n",
       "      <td>...</td>\n",
       "      <td>...</td>\n",
       "      <td>...</td>\n",
       "      <td>...</td>\n",
       "      <td>...</td>\n",
       "      <td>...</td>\n",
       "      <td>...</td>\n",
       "      <td>...</td>\n",
       "    </tr>\n",
       "    <tr>\n",
       "      <th>1314</th>\n",
       "      <td>89</td>\n",
       "      <td>67</td>\n",
       "      <td>54</td>\n",
       "      <td>29.97</td>\n",
       "      <td>10</td>\n",
       "      <td>5</td>\n",
       "      <td>0.00</td>\n",
       "      <td>0</td>\n",
       "    </tr>\n",
       "    <tr>\n",
       "      <th>1315</th>\n",
       "      <td>91</td>\n",
       "      <td>64</td>\n",
       "      <td>54</td>\n",
       "      <td>29.9</td>\n",
       "      <td>10</td>\n",
       "      <td>5</td>\n",
       "      <td>0.00</td>\n",
       "      <td>0</td>\n",
       "    </tr>\n",
       "    <tr>\n",
       "      <th>1316</th>\n",
       "      <td>92</td>\n",
       "      <td>64</td>\n",
       "      <td>51</td>\n",
       "      <td>29.86</td>\n",
       "      <td>10</td>\n",
       "      <td>4</td>\n",
       "      <td>0.00</td>\n",
       "      <td>0</td>\n",
       "    </tr>\n",
       "    <tr>\n",
       "      <th>1317</th>\n",
       "      <td>93</td>\n",
       "      <td>68</td>\n",
       "      <td>48</td>\n",
       "      <td>29.91</td>\n",
       "      <td>10</td>\n",
       "      <td>4</td>\n",
       "      <td>0.00</td>\n",
       "      <td>0</td>\n",
       "    </tr>\n",
       "    <tr>\n",
       "      <th>1318</th>\n",
       "      <td>88</td>\n",
       "      <td>61</td>\n",
       "      <td>43</td>\n",
       "      <td>29.97</td>\n",
       "      <td>10</td>\n",
       "      <td>4</td>\n",
       "      <td>0.00</td>\n",
       "      <td>0</td>\n",
       "    </tr>\n",
       "  </tbody>\n",
       "</table>\n",
       "<p>1319 rows × 8 columns</p>\n",
       "</div>"
      ],
      "text/plain": [
       "      TempAvgF DewPointAvgF HumidityAvgPercent SeaLevelPressureAvgInches  \\\n",
       "0           60           49                 75                     29.68   \n",
       "1           48           36                 68                     30.13   \n",
       "2           45           27                 52                     30.49   \n",
       "3           46           28                 56                     30.45   \n",
       "4           50           40                 71                     30.33   \n",
       "...        ...          ...                ...                       ...   \n",
       "1314        89           67                 54                     29.97   \n",
       "1315        91           64                 54                      29.9   \n",
       "1316        92           64                 51                     29.86   \n",
       "1317        93           68                 48                     29.91   \n",
       "1318        88           61                 43                     29.97   \n",
       "\n",
       "     VisibilityAvgMiles WindAvgMPH  PrecipitationSumInches  PrecipitationTrace  \n",
       "0                     7          4                    0.46                   0  \n",
       "1                    10          6                    0.00                   0  \n",
       "2                    10          3                    0.00                   0  \n",
       "3                    10          4                    0.00                   0  \n",
       "4                    10          2                    0.00                   1  \n",
       "...                 ...        ...                     ...                 ...  \n",
       "1314                 10          5                    0.00                   0  \n",
       "1315                 10          5                    0.00                   0  \n",
       "1316                 10          4                    0.00                   0  \n",
       "1317                 10          4                    0.00                   0  \n",
       "1318                 10          4                    0.00                   0  \n",
       "\n",
       "[1319 rows x 8 columns]"
      ]
     },
     "execution_count": 34,
     "metadata": {},
     "output_type": "execute_result"
    }
   ],
   "source": [
    "data"
   ]
  },
  {
   "cell_type": "code",
   "execution_count": 33,
   "id": "003b4129",
   "metadata": {},
   "outputs": [
    {
     "data": {
      "text/plain": [
       "{0: array([0.66684626, 0.71558485, 0.53737274, 0.39408867, 0.92715517,\n",
       "        0.36185998, 0.01333112, 0.        ]),\n",
       " 4: array([0.66259282, 0.7603378 , 0.62192362, 0.39995008, 0.9220297 ,\n",
       "        0.39423942, 0.        , 1.        ]),\n",
       " 1: array([0.37553879, 0.59077079, 0.81453202, 0.46479281, 0.47844828,\n",
       "        0.40125392, 0.06999337, 0.        ]),\n",
       " 3: array([0.690625  , 0.88431373, 0.85142857, 0.28403361, 0.46666667,\n",
       "        0.44242424, 0.59641026, 0.        ]),\n",
       " 2: array([0.015625  , 0.05882353, 0.3       , 0.83193277, 1.        ,\n",
       "        0.36363636, 0.        , 1.        ])}"
      ]
     },
     "execution_count": 33,
     "metadata": {},
     "output_type": "execute_result"
    }
   ],
   "source": [
    "#tọa độ tâm từng cụm\n",
    "cluster_centers_mapping = {}\n",
    "for key in cluster_category_mapping:\n",
    "    cluster_indices = resultDf.loc[resultDf[0] == key].index\n",
    "    cluster_data = X_train.iloc[cluster_indices]\n",
    "    mean = cluster_data.mean(axis=0).values\n",
    "    #print(\"\\n\" + cluster_category_mapping[key])\n",
    "    #print(mean)\n",
    "    cluster_centers_mapping.update({key:mean})\n",
    "cluster_centers_mapping"
   ]
  },
  {
   "cell_type": "code",
   "execution_count": 36,
   "id": "680cde2b",
   "metadata": {},
   "outputs": [
    {
     "data": {
      "text/html": [
       "<div>\n",
       "<style scoped>\n",
       "    .dataframe tbody tr th:only-of-type {\n",
       "        vertical-align: middle;\n",
       "    }\n",
       "\n",
       "    .dataframe tbody tr th {\n",
       "        vertical-align: top;\n",
       "    }\n",
       "\n",
       "    .dataframe thead th {\n",
       "        text-align: right;\n",
       "    }\n",
       "</style>\n",
       "<table border=\"1\" class=\"dataframe\">\n",
       "  <thead>\n",
       "    <tr style=\"text-align: right;\">\n",
       "      <th></th>\n",
       "      <th>None</th>\n",
       "      <th>Rain</th>\n",
       "      <th>Thunderstorm</th>\n",
       "      <th>Fog</th>\n",
       "      <th>Snow</th>\n",
       "    </tr>\n",
       "  </thead>\n",
       "  <tbody>\n",
       "    <tr>\n",
       "      <th>1304</th>\n",
       "      <td>1.076076</td>\n",
       "      <td>1.362176</td>\n",
       "      <td>1.393672</td>\n",
       "      <td>1.370068</td>\n",
       "      <td>0.410872</td>\n",
       "    </tr>\n",
       "    <tr>\n",
       "      <th>547</th>\n",
       "      <td>0.545300</td>\n",
       "      <td>0.611610</td>\n",
       "      <td>1.757403</td>\n",
       "      <td>0.511271</td>\n",
       "      <td>1.114620</td>\n",
       "    </tr>\n",
       "    <tr>\n",
       "      <th>293</th>\n",
       "      <td>0.356203</td>\n",
       "      <td>0.856249</td>\n",
       "      <td>1.684327</td>\n",
       "      <td>0.875558</td>\n",
       "      <td>1.052542</td>\n",
       "    </tr>\n",
       "    <tr>\n",
       "      <th>10</th>\n",
       "      <td>0.771528</td>\n",
       "      <td>0.883183</td>\n",
       "      <td>1.128419</td>\n",
       "      <td>1.326534</td>\n",
       "      <td>1.298398</td>\n",
       "    </tr>\n",
       "    <tr>\n",
       "      <th>147</th>\n",
       "      <td>0.388148</td>\n",
       "      <td>0.800786</td>\n",
       "      <td>1.494443</td>\n",
       "      <td>0.964510</td>\n",
       "      <td>1.075485</td>\n",
       "    </tr>\n",
       "    <tr>\n",
       "      <th>...</th>\n",
       "      <td>...</td>\n",
       "      <td>...</td>\n",
       "      <td>...</td>\n",
       "      <td>...</td>\n",
       "      <td>...</td>\n",
       "    </tr>\n",
       "    <tr>\n",
       "      <th>1107</th>\n",
       "      <td>0.407664</td>\n",
       "      <td>0.517768</td>\n",
       "      <td>1.490951</td>\n",
       "      <td>0.821374</td>\n",
       "      <td>1.084434</td>\n",
       "    </tr>\n",
       "    <tr>\n",
       "      <th>1142</th>\n",
       "      <td>1.166892</td>\n",
       "      <td>1.051129</td>\n",
       "      <td>1.231481</td>\n",
       "      <td>1.222892</td>\n",
       "      <td>0.561554</td>\n",
       "    </tr>\n",
       "    <tr>\n",
       "      <th>1306</th>\n",
       "      <td>0.351305</td>\n",
       "      <td>0.903140</td>\n",
       "      <td>1.662150</td>\n",
       "      <td>0.935868</td>\n",
       "      <td>1.062798</td>\n",
       "    </tr>\n",
       "    <tr>\n",
       "      <th>871</th>\n",
       "      <td>0.590384</td>\n",
       "      <td>0.615363</td>\n",
       "      <td>1.762538</td>\n",
       "      <td>0.609792</td>\n",
       "      <td>1.139158</td>\n",
       "    </tr>\n",
       "    <tr>\n",
       "      <th>1138</th>\n",
       "      <td>0.230118</td>\n",
       "      <td>0.457167</td>\n",
       "      <td>1.433213</td>\n",
       "      <td>0.779125</td>\n",
       "      <td>1.031859</td>\n",
       "    </tr>\n",
       "  </tbody>\n",
       "</table>\n",
       "<p>1045 rows × 5 columns</p>\n",
       "</div>"
      ],
      "text/plain": [
       "          None      Rain  Thunderstorm       Fog      Snow\n",
       "1304  1.076076  1.362176      1.393672  1.370068  0.410872\n",
       "547   0.545300  0.611610      1.757403  0.511271  1.114620\n",
       "293   0.356203  0.856249      1.684327  0.875558  1.052542\n",
       "10    0.771528  0.883183      1.128419  1.326534  1.298398\n",
       "147   0.388148  0.800786      1.494443  0.964510  1.075485\n",
       "...        ...       ...           ...       ...       ...\n",
       "1107  0.407664  0.517768      1.490951  0.821374  1.084434\n",
       "1142  1.166892  1.051129      1.231481  1.222892  0.561554\n",
       "1306  0.351305  0.903140      1.662150  0.935868  1.062798\n",
       "871   0.590384  0.615363      1.762538  0.609792  1.139158\n",
       "1138  0.230118  0.457167      1.433213  0.779125  1.031859\n",
       "\n",
       "[1045 rows x 5 columns]"
      ]
     },
     "execution_count": 36,
     "metadata": {},
     "output_type": "execute_result"
    }
   ],
   "source": [
    "#tính khoảng cách từ 1 điểm đến tâm từng cụm\n",
    "def get_distances_from_cluster(data_frame):\n",
    "    cluster_distance = np.zeros((data_frame.shape[0], clusters_count))\n",
    "    #khoảng cách euclidean\n",
    "    for i in range(data_frame.shape[0]):\n",
    "        for key in cluster_category_mapping:\n",
    "            dist = np.linalg.norm(data_frame.iloc[[i]].values[0]-cluster_centers_mapping[key])\n",
    "            cluster_distance[i,key] = dist\n",
    "            #print(dist)\n",
    "    column_names = [cluster_category_mapping[k] for k in cluster_category_mapping]\n",
    "    #column_names\n",
    "\n",
    "    return pd.DataFrame(cluster_distance, index=data_frame.index, columns=column_names)\n",
    "\n",
    "distancesDf = get_distances_from_cluster(X_train)\n",
    "distancesDf"
   ]
  },
  {
   "cell_type": "code",
   "execution_count": 38,
   "id": "7b99ca44",
   "metadata": {},
   "outputs": [],
   "source": [
    "def classify_events(distances_dataFrame):\n",
    "    return distances_dataFrame.apply(lambda x: x<x.min()*1.01, axis=1)\n",
    "\n",
    "classification_result = classify_events(distancesDf)\n",
    "X_train_col_ordered = classification_result.reindex(sorted(classification_result.columns), axis=1)\n",
    "y_train_col_ordered = y_train.reindex(sorted(y_train.columns), axis=1)\n",
    "\n",
    "#xem giá trị  dự đoán có đúng vs gtri thực tế\n",
    "def check_accuracy(X, y):    \n",
    "    comparison = X == y\n",
    "    val_counts = comparison.all(axis=1).value_counts()\n",
    "    percentageCorrect = val_counts.at[True] / X.shape[0] * 100\n",
    "    return percentageCorrect"
   ]
  },
  {
   "cell_type": "markdown",
   "id": "e95414d8",
   "metadata": {},
   "source": [
    "Đánh giá mô hình phân cụm dựa trên tỷ lệ giữa số dòng dự báo đúng và tổng số dòng của 2 tập X_train và X_test"
   ]
  },
  {
   "cell_type": "code",
   "execution_count": 39,
   "id": "23edbdb6",
   "metadata": {},
   "outputs": [
    {
     "data": {
      "text/plain": [
       "64.97607655502392"
      ]
     },
     "execution_count": 39,
     "metadata": {},
     "output_type": "execute_result"
    }
   ],
   "source": [
    "check_accuracy(X_train_col_ordered, y_train_col_ordered)"
   ]
  },
  {
   "cell_type": "code",
   "execution_count": 40,
   "id": "8b049461",
   "metadata": {},
   "outputs": [
    {
     "data": {
      "text/html": [
       "<div>\n",
       "<style scoped>\n",
       "    .dataframe tbody tr th:only-of-type {\n",
       "        vertical-align: middle;\n",
       "    }\n",
       "\n",
       "    .dataframe tbody tr th {\n",
       "        vertical-align: top;\n",
       "    }\n",
       "\n",
       "    .dataframe thead th {\n",
       "        text-align: right;\n",
       "    }\n",
       "</style>\n",
       "<table border=\"1\" class=\"dataframe\">\n",
       "  <thead>\n",
       "    <tr style=\"text-align: right;\">\n",
       "      <th></th>\n",
       "      <th>Fog</th>\n",
       "      <th>None</th>\n",
       "      <th>Rain</th>\n",
       "      <th>Snow</th>\n",
       "      <th>Thunderstorm</th>\n",
       "    </tr>\n",
       "  </thead>\n",
       "  <tbody>\n",
       "    <tr>\n",
       "      <th>1304</th>\n",
       "      <td>False</td>\n",
       "      <td>False</td>\n",
       "      <td>False</td>\n",
       "      <td>True</td>\n",
       "      <td>False</td>\n",
       "    </tr>\n",
       "    <tr>\n",
       "      <th>547</th>\n",
       "      <td>True</td>\n",
       "      <td>False</td>\n",
       "      <td>False</td>\n",
       "      <td>False</td>\n",
       "      <td>False</td>\n",
       "    </tr>\n",
       "    <tr>\n",
       "      <th>293</th>\n",
       "      <td>False</td>\n",
       "      <td>True</td>\n",
       "      <td>False</td>\n",
       "      <td>False</td>\n",
       "      <td>False</td>\n",
       "    </tr>\n",
       "    <tr>\n",
       "      <th>10</th>\n",
       "      <td>False</td>\n",
       "      <td>True</td>\n",
       "      <td>False</td>\n",
       "      <td>False</td>\n",
       "      <td>False</td>\n",
       "    </tr>\n",
       "    <tr>\n",
       "      <th>147</th>\n",
       "      <td>False</td>\n",
       "      <td>True</td>\n",
       "      <td>False</td>\n",
       "      <td>False</td>\n",
       "      <td>False</td>\n",
       "    </tr>\n",
       "  </tbody>\n",
       "</table>\n",
       "</div>"
      ],
      "text/plain": [
       "        Fog   None   Rain   Snow  Thunderstorm\n",
       "1304  False  False  False   True         False\n",
       "547    True  False  False  False         False\n",
       "293   False   True  False  False         False\n",
       "10    False   True  False  False         False\n",
       "147   False   True  False  False         False"
      ]
     },
     "execution_count": 40,
     "metadata": {},
     "output_type": "execute_result"
    }
   ],
   "source": [
    "X_train_col_ordered.head()"
   ]
  },
  {
   "cell_type": "code",
   "execution_count": 41,
   "id": "f2dab64e",
   "metadata": {},
   "outputs": [
    {
     "data": {
      "text/html": [
       "<div>\n",
       "<style scoped>\n",
       "    .dataframe tbody tr th:only-of-type {\n",
       "        vertical-align: middle;\n",
       "    }\n",
       "\n",
       "    .dataframe tbody tr th {\n",
       "        vertical-align: top;\n",
       "    }\n",
       "\n",
       "    .dataframe thead th {\n",
       "        text-align: right;\n",
       "    }\n",
       "</style>\n",
       "<table border=\"1\" class=\"dataframe\">\n",
       "  <thead>\n",
       "    <tr style=\"text-align: right;\">\n",
       "      <th></th>\n",
       "      <th>Fog</th>\n",
       "      <th>None</th>\n",
       "      <th>Rain</th>\n",
       "      <th>Snow</th>\n",
       "      <th>Thunderstorm</th>\n",
       "    </tr>\n",
       "  </thead>\n",
       "  <tbody>\n",
       "    <tr>\n",
       "      <th>1304</th>\n",
       "      <td>False</td>\n",
       "      <td>False</td>\n",
       "      <td>True</td>\n",
       "      <td>False</td>\n",
       "      <td>True</td>\n",
       "    </tr>\n",
       "    <tr>\n",
       "      <th>547</th>\n",
       "      <td>True</td>\n",
       "      <td>False</td>\n",
       "      <td>True</td>\n",
       "      <td>False</td>\n",
       "      <td>True</td>\n",
       "    </tr>\n",
       "    <tr>\n",
       "      <th>293</th>\n",
       "      <td>False</td>\n",
       "      <td>True</td>\n",
       "      <td>False</td>\n",
       "      <td>False</td>\n",
       "      <td>False</td>\n",
       "    </tr>\n",
       "    <tr>\n",
       "      <th>10</th>\n",
       "      <td>False</td>\n",
       "      <td>True</td>\n",
       "      <td>False</td>\n",
       "      <td>False</td>\n",
       "      <td>False</td>\n",
       "    </tr>\n",
       "    <tr>\n",
       "      <th>147</th>\n",
       "      <td>False</td>\n",
       "      <td>True</td>\n",
       "      <td>False</td>\n",
       "      <td>False</td>\n",
       "      <td>False</td>\n",
       "    </tr>\n",
       "  </tbody>\n",
       "</table>\n",
       "</div>"
      ],
      "text/plain": [
       "        Fog   None   Rain   Snow  Thunderstorm\n",
       "1304  False  False   True  False          True\n",
       "547    True  False   True  False          True\n",
       "293   False   True  False  False         False\n",
       "10    False   True  False  False         False\n",
       "147   False   True  False  False         False"
      ]
     },
     "execution_count": 41,
     "metadata": {},
     "output_type": "execute_result"
    }
   ],
   "source": [
    "y_train_col_ordered.head()"
   ]
  },
  {
   "cell_type": "code",
   "execution_count": 42,
   "id": "e317666c",
   "metadata": {},
   "outputs": [
    {
     "data": {
      "image/png": "[encoded data removed]",
      "text/plain": [
       "<Figure size 1500x500 with 2 Axes>"
      ]
     },
     "metadata": {},
     "output_type": "display_data"
    }
   ],
   "source": [
    "fig, ax = plt.subplots(1, 2, figsize=(15, 5))\n",
    "y_train_col_ordered.sum().plot.bar(ax=ax[0], title=\"Real events that happened\", color = plt.cm.Set2(range(len(events.Events.unique()))))\n",
    "ax = X_train_col_ordered.sum().plot.bar(ax=ax[1], title=\"Predicted events\", color = plt.cm.Set2(range(len(events.Events.unique()))))\n",
    "#resultDf.iloc[:,0].value_counts().plot.bar(ax=ax[1], title=\"Histogram obtained from agglomerative clustering\")\n",
    "for i in ax.patches:\n",
    "    ax.text(i.get_x()+.18, i.get_height()+5, i.get_height(), fontsize=10)"
   ]
  },
  {
   "cell_type": "code",
   "execution_count": 43,
   "id": "d55b7110",
   "metadata": {},
   "outputs": [
    {
     "data": {
      "text/plain": [
       "<Axes: title={'center': 'Predicted events'}>"
      ]
     },
     "execution_count": 43,
     "metadata": {},
     "output_type": "execute_result"
    },
    {
     "data": {
      "image/png": "[encoded data removed]",
      "text/plain": [
       "<Figure size 1500x500 with 2 Axes>"
      ]
     },
     "metadata": {},
     "output_type": "display_data"
    }
   ],
   "source": [
    "distancesDf = get_distances_from_cluster(X_test)\n",
    "classification_result = classify_events(distancesDf)\n",
    "X_test_col_ordered = classification_result.reindex(sorted(classification_result.columns), axis=1)\n",
    "y_test_col_ordered = y_test.reindex(sorted(y_train.columns), axis=1)\n",
    "\n",
    "fig, ax = plt.subplots(1, 2, figsize=(15, 5))\n",
    "y_test_col_ordered.sum().plot.bar(ax=ax[0], title=\"Real events that happened\", color = plt.cm.Set2(range(len(events.Events.unique()))))\n",
    "X_test_col_ordered.sum().plot.bar(ax=ax[1], title=\"Predicted events\", color = plt.cm.Set2(range(len(events.Events.unique()))))"
   ]
  },
  {
   "cell_type": "code",
   "execution_count": 44,
   "id": "461ae993",
   "metadata": {},
   "outputs": [
    {
     "data": {
      "text/plain": [
       "70.22900763358778"
      ]
     },
     "execution_count": 44,
     "metadata": {},
     "output_type": "execute_result"
    }
   ],
   "source": [
    "check_accuracy(X_test_col_ordered, y_test_col_ordered)"
   ]
  },
  {
   "cell_type": "code",
   "execution_count": null,
   "id": "933bf62f",
   "metadata": {},
   "outputs": [],
   "source": []
  }
 ],
 "metadata": {
  "kernelspec": {
   "display_name": "Python 3 (ipykernel)",
   "language": "python",
   "name": "python3"
  },
  "language_info": {
   "codemirror_mode": {
    "name": "ipython",
    "version": 3
   },
   "file_extension": ".py",
   "mimetype": "text/x-python",
   "name": "python",
   "nbconvert_exporter": "python",
   "pygments_lexer": "ipython3",
   "version": "3.10.9"
  }
 },
 "nbformat": 4,
 "nbformat_minor": 5
}
